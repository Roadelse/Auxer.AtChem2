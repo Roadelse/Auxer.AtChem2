{
 "cells": [
  {
   "cell_type": "code",
   "execution_count": 1,
   "id": "4637e436-c763-4161-9318-d3a5955ebcb4",
   "metadata": {},
   "outputs": [],
   "source": [
    "import os\n",
    "import glob\n",
    "import os.path\n",
    "import re\n",
    "import pickle\n",
    "import datetime\n",
    "\n",
    "import pandas as pd\n",
    "\n",
    "import networkx as nx\n",
    "from networkx.drawing.nx_agraph import graphviz_layout\n",
    "\n",
    "import matplotlib.pyplot as plt"
   ]
  },
  {
   "cell_type": "markdown",
   "id": "63822468-9ec5-4ba7-960e-846e26e1cffd",
   "metadata": {},
   "source": [
    "+ 强制全部输出间隔一致"
   ]
  },
  {
   "cell_type": "code",
   "execution_count": 2,
   "id": "4390ed64-81c8-4fa1-88ac-15fa861a7641",
   "metadata": {},
   "outputs": [],
   "source": [
    "class AtChem2Case:\n",
    "    def __init__(self, mDir, facfile = None):\n",
    "        assert os.path.exists(mDir)\n",
    "        self.modelpath = mDir\n",
    "        \n",
    "        self.facfile = facfile\n",
    "        if not facfile:\n",
    "            self.facfile = glob.glob(f\"{mDir}/*.fac\")[0]\n",
    "        \n",
    "        self.mechDG = self._init_DG_from_fac(self.facfile)\n",
    "        self.frames = {}\n",
    "\n",
    "\n",
    "        self.resolve_configuration()\n",
    "        if os.path.exists(f\"{mDir}/output\"):\n",
    "            self.resolve_output(f\"{mDir}/output\")\n",
    "\n",
    "    def _init_DG_from_fac(self, facfile: str):\n",
    "        assert os.path.exists(facfile)\n",
    "\n",
    "        lines = open(facfile).read().splitlines()\n",
    "        lines_reaction = [L for L in lines if L.startswith(\"% \")]\n",
    "        reactions = list(map(lambda x: re.search(': (.*) ;', x).group(1).replace(' ', ''), lines_reaction))\n",
    "    \n",
    "        for iL, L in enumerate(lines):\n",
    "            if L == 'VARIABLE':\n",
    "                break\n",
    "        iL += 1\n",
    "        variables = []\n",
    "        while not lines[iL].startswith('******************'):\n",
    "            variables.extend([ele for ele in re.split(r'[; ]', lines[iL]) if ele.strip()])\n",
    "            iL += 1\n",
    "\n",
    "        \n",
    "        DG = nx.DiGraph()\n",
    "        DG.species = []\n",
    "        DG.reactions = []\n",
    "        for i_sp, sp in enumerate(variables):\n",
    "            DG.add_node(sp, type=\"species\", spe_id=i_sp+1)\n",
    "            DG.species.append(DG.nodes[sp])\n",
    "        for i_reac, reac in enumerate(reactions):\n",
    "            DG.add_node(reac, type=\"reaction\", reac_id=i_reac+1)\n",
    "            DG.reactions.append(DG.nodes[reac])\n",
    "            \n",
    "            reactants = re.findall(r\"\\w+\", reac.split('=')[0])\n",
    "            products = re.findall(r\"\\w+\", reac.split('=')[1])\n",
    "            for rtt in reactants:\n",
    "                DG.add_edge(rtt, reac)\n",
    "            for pdt in products:\n",
    "                DG.add_edge(reac, pdt)\n",
    "\n",
    "        self.variables = variables\n",
    "        self.reactions = reactions\n",
    "        \n",
    "        return DG    \n",
    "\n",
    "    def resolve_configuration(self):\n",
    "        for k, v in self.get_model_parameters().items():\n",
    "            setattr(self, k, v)\n",
    "        self.timezone = -float(self.lon) / 15\n",
    "        self.startDatetime = datetime.datetime.strptime(f\"\"\"{self.year}/{self.month}/{self.day}\"\"\", \"%Y/%m/%d\")\n",
    "        self.startDatetime += datetime.timedelta(hours=self.timezone)\n",
    "        self.startDatetime += datetime.timedelta(seconds=int(self.starttime))\n",
    "        self.timeseries = [self.startDatetime]\n",
    "        timestep = datetime.timedelta(seconds=int(self.dt))\n",
    "        for i in range(int(self.nsteps)):\n",
    "            self.timeseries.append(self.timeseries[-1] + timestep)\n",
    "        \n",
    "    def get_model_parameters(self):\n",
    "        configfile = os.path.join(self.modelpath, \"configuration/model.parameters\")\n",
    "        model_params_lines = [L.split()[0] for L in open(configfile, \"r\").read().splitlines()]\n",
    "        keys_by_order = (\"nsteps\", \"dt\", \"species_interp_method\", \"condition_interp_method\", \"dt_out\", \"starttime\", \"dt_jacobian_out\", \n",
    "                         \"lat\", \"lon\", \"day\", \"month\", \"year\", \"dt_rrate_out\")\n",
    "        model_parameters = {keys_by_order[i]:model_params_lines[i] for i in range(len(model_params_lines))}\n",
    "        return model_parameters\n",
    "\n",
    "    def prepare_frames(self):\n",
    "        self.frames = {}\n",
    "        for i_dtm, dtm in enumerate(self.timeseries):\n",
    "            frameT = self.copyDG()\n",
    "            frameT.graph[\"datetime\"] = dtm\n",
    "            frameT.graph[\"step_index\"] = i_dtm\n",
    "            frameT.graph[\"step_second\"] = i_dtm * self.dt\n",
    "            \n",
    "            self.frames[dtm] = frameT\n",
    "\n",
    "    def copyDG(self):\n",
    "        DG = self.mechDG.copy()\n",
    "        DG.species = [None]\n",
    "        DG.reactions = [None]\n",
    "        for sp in self.variables:\n",
    "            DG.species.append(DG.nodes[sp])\n",
    "        for reac in self.reactions:\n",
    "            DG.reactions.append(DG.nodes[reac])\n",
    "        return DG\n",
    "    \n",
    "    def resolve_output(self, oDir: str):\n",
    "        self.prepare_frames()\n",
    "        spe_conc_file = f\"{self.modelpath}/output/speciesConcentrations.output\"\n",
    "        reac_rate_dir = f\"{self.modelpath}/output/reactionRates\"\n",
    "        self._resolve_conc(spe_conc_file)\n",
    "        self._resolve_rate(reac_rate_dir)\n",
    "        pass\n",
    "\n",
    "    def _resolve_conc(self, conc_file: str):\n",
    "        df = pd.read_csv(conc_file, index_col=0, sep=r'\\s+')\n",
    "        \n",
    "        for t in df.index:\n",
    "            frameG = self[t]\n",
    "            for v in df.columns:\n",
    "                frameG.nodes[v][\"conc\"] = df.loc[t, v]\n",
    "\n",
    "    def _resolve_rate(self, rate_dir: str):\n",
    "        rate_dir = f\"{self.modelpath}/output/reactionRates\"\n",
    "        \n",
    "        for i in range(1, int(self.nsteps)+1):\n",
    "            rate_file = f\"{rate_dir}/{i*int(self.dt)}\"\n",
    "            frameG = self.get_frame_from_idx(i)\n",
    "        \n",
    "            df = pd.read_csv(rate_file, index_col=0, sep=r\"\\s+\")\n",
    "            for rid in df.index:\n",
    "                # print(rid)\n",
    "                frameG.reactions[rid][\"rate\"] = df.loc[rid, \"reactionRate\"]\n",
    "\n",
    "    def _get_output_times(self):\n",
    "        dfT = pd.read_csv(f'{self.modelpath}/speciesConcentrations.output', sep=r'\\s+', index_col=0)\n",
    "        outdts = []\n",
    "        for t in dfT.index:\n",
    "            outdts.append(startDatetime + datetime.timedelta(seconds=int(t)))\n",
    "        return outdts\n",
    "    \n",
    "    def __getitem__(self, idx):\n",
    "        if not hasattr(self, \"frames\"):\n",
    "            print(\"No frames in this case now!\")\n",
    "            return\n",
    "            \n",
    "        if isinstance(idx, datetime.datetime):\n",
    "            return self.frames[time]\n",
    "        \n",
    "        try:\n",
    "            dt = int(self.dt)\n",
    "            idx = int(idx)\n",
    "            if idx % dt == 0:\n",
    "                return self.frames[self.timeseries[idx//dt]]\n",
    "            else:\n",
    "                print(\"No target seconds!\")\n",
    "                return\n",
    "        except:\n",
    "            print(\"Failed to get frame from seconds\")\n",
    "            return\n",
    "            \n",
    "    def get_frame_from_idx(self, idx: int):\n",
    "        return self.frames[self.timeseries[idx]]\n",
    "\n",
    "    def _get_conc(self, vn: str):\n",
    "        concs = []\n",
    "        for dtm, dg in self.frames.items():\n",
    "            val = dg.nodes[vn][\"conc\"]\n",
    "            concs.append(val)\n",
    "        return concs\n",
    "    \n",
    "    def plot_conc(self, vns: list[str]):\n",
    "        fig, axs = plt.subplots(len(vns), 1, figsize=(12, 5))\n",
    "        if len(vns) > 1:\n",
    "            for i, v in enumerate(vns):\n",
    "                axs[i].plot(self.timeseries, self._get_conc(v))\n",
    "        else:\n",
    "            axs.plot(self.timeseries, self._get_conc(vns[0]))"
   ]
  },
  {
   "cell_type": "code",
   "execution_count": 3,
   "id": "480da267-1498-48f0-98df-59e85d2e291f",
   "metadata": {},
   "outputs": [],
   "source": [
    "rct = AtChem2Case(\"/home/roadelse/Model/AtChem2/AtChem2-1.2.2/model\")"
   ]
  },
  {
   "cell_type": "code",
   "execution_count": 4,
   "id": "7edf4657-79e4-46ea-a362-65e0a7d71020",
   "metadata": {},
   "outputs": [
    {
     "data": {
      "image/png": "[encoded data removed]",
      "text/plain": [
       "<Figure size 1200x500 with 3 Axes>"
      ]
     },
     "metadata": {},
     "output_type": "display_data"
    }
   ],
   "source": [
    "rct.plot_conc([\"O3\", \"NO\", \"NO2\"])"
   ]
  },
  {
   "cell_type": "code",
   "execution_count": 6,
   "id": "6caa9527-fcf4-4644-a504-2653a666d3e4",
   "metadata": {},
   "outputs": [],
   "source": [
    "pickle.dump(rct, open(\"case.pk\", \"wb\"))"
   ]
  },
  {
   "cell_type": "code",
   "execution_count": null,
   "id": "fdf66f0d-4622-4157-adf7-5e3f8b7797f9",
   "metadata": {},
   "outputs": [],
   "source": []
  },
  {
   "cell_type": "code",
   "execution_count": null,
   "id": "10f5b372-fb41-4be0-9a71-0d642799d8c6",
   "metadata": {},
   "outputs": [],
   "source": []
  },
  {
   "cell_type": "code",
   "execution_count": 159,
   "id": "d842e521-7f4a-4183-85ad-06354c059b16",
   "metadata": {},
   "outputs": [
    {
     "data": {
      "text/plain": [
       "{'type': 'reaction', 'reac_id': 2, 'rate': 270295800.0}"
      ]
     },
     "execution_count": 159,
     "metadata": {},
     "output_type": "execute_result"
    }
   ],
   "source": [
    "rct[300].reactions[1]"
   ]
  },
  {
   "cell_type": "markdown",
   "id": "113e2b5c-e3f8-4991-a026-cba6f4910b21",
   "metadata": {},
   "source": [
    "# 思考一下\n",
    "+ 现在以及基本解析完了conc和rate, 那么, 我的目的是什么?\n",
    "    + 首先, 我得看看default case下, 为什么是这么变得...\n",
    "+ 基本的出图肯定也是要有的"
   ]
  },
  {
   "cell_type": "code",
   "execution_count": null,
   "id": "09b94ec9-47dc-4429-9299-9b5ea7123f11",
   "metadata": {},
   "outputs": [],
   "source": []
  }
 ],
 "metadata": {
  "kernelspec": {
   "display_name": "geo",
   "language": "python",
   "name": "geo"
  },
  "language_info": {
   "codemirror_mode": {
    "name": "ipython",
    "version": 3
   },
   "file_extension": ".py",
   "mimetype": "text/x-python",
   "name": "python",
   "nbconvert_exporter": "python",
   "pygments_lexer": "ipython3",
   "version": "3.12.3"
  }
 },
 "nbformat": 4,
 "nbformat_minor": 5
}
