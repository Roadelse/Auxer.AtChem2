{
 "cells": [
  {
   "cell_type": "code",
   "execution_count": 128,
   "id": "bb30344b-be1c-45fc-b345-00b2495a007a",
   "metadata": {},
   "outputs": [],
   "source": [
    "import os\n",
    "import os.path\n",
    "import re\n",
    "import pickle\n",
    "\n",
    "\n",
    "import networkx as nx\n",
    "from networkx.drawing.nx_agraph import graphviz_layout\n",
    "\n",
    "import matplotlib.pyplot as plt"
   ]
  },
  {
   "cell_type": "code",
   "execution_count": 34,
   "id": "1c283b2b-59d5-4975-9778-9355c5cc2bcc",
   "metadata": {},
   "outputs": [],
   "source": []
  },
  {
   "cell_type": "code",
   "execution_count": null,
   "id": "ed33c3b3-85e8-4185-9e12-90f147094ca1",
   "metadata": {},
   "outputs": [],
   "source": []
  },
  {
   "cell_type": "markdown",
   "id": "cddf9fdd-93f3-47f0-a534-c5a71652b237",
   "metadata": {},
   "source": [
    "# get information"
   ]
  },
  {
   "cell_type": "code",
   "execution_count": null,
   "id": "821282c8-0c87-4d59-8691-09d17402d4ab",
   "metadata": {},
   "outputs": [],
   "source": [
    "def get_reactions_from_fac(facfile: str) -> list[str]:\n",
    "    assert os.path.exists(facfile)\n",
    "    \n",
    "    lines = open(facfile).read().splitlines()\n",
    "    \n",
    "    lines_reaction = [L for L in lines if L.startswith(\"% \")]\n",
    "    \n",
    "    reactions = list(map(lambda x: re.search(': (.*) ;', x).group(1).replace(' ', ''), lines_reaction))\n",
    "\n",
    "    return reactions\n",
    "\n",
    "def get_species_from_fac(facfile: str) -> list[str]:\n",
    "    for iL, L in enumerate(lines):\n",
    "        if L == 'VARIABLE':\n",
    "            break\n",
    "    iL += 1\n",
    "    variables = []\n",
    "    while not lines[iL].startswith('******************'):\n",
    "        variables.extend([ele for ele in re.split(r'[; ]', lines[iL]) if ele.strip()])\n",
    "        iL += 1\n",
    "    return variables"
   ]
  },
  {
   "cell_type": "code",
   "execution_count": null,
   "id": "f92da81c-8357-4032-94ee-1c412a835cc0",
   "metadata": {
    "scrolled": true
   },
   "outputs": [],
   "source": [
    "facfile = \"/home/roadelse/Model/AtChem2/AtChem2-1.2.2/model/mechanism.fac\"\n",
    "\n",
    "reactions = get_reactions_from_fac(facfile)\n",
    "\n",
    "species = get_species_from_fac(facfile)"
   ]
  },
  {
   "cell_type": "code",
   "execution_count": 67,
   "id": "013e39bd-aa2b-467f-91f2-770192bba03d",
   "metadata": {},
   "outputs": [
    {
     "data": {
      "text/plain": [
       "'O=O3'"
      ]
     },
     "execution_count": 67,
     "metadata": {},
     "output_type": "execute_result"
    }
   ],
   "source": [
    "reactions[0]"
   ]
  },
  {
   "cell_type": "markdown",
   "id": "432b41d9-aeaa-4b5e-a04a-4169b55dd344",
   "metadata": {},
   "source": [
    "# add nodes in Graph"
   ]
  },
  {
   "cell_type": "code",
   "execution_count": null,
   "id": "0446236c-6cf7-4245-ab35-76c32168b01f",
   "metadata": {},
   "outputs": [],
   "source": [
    "DG = nx.DiGraph()\n",
    "\n",
    "for sp in species:\n",
    "    DG.add_node(sp, type=\"species\")\n",
    "\n",
    "for reac in reactions:\n",
    "    DG.add_node(reac, type=\"reaction\")\n",
    "    reactants = re.findall(r\"\\w+\", reac.split('=')[0])\n",
    "    products = re.findall(r\"\\w+\", reac.split('=')[1])\n",
    "    for rtt in reactants:\n",
    "        DG.add_edge(rtt, reac)\n",
    "    for pdt in products:\n",
    "        DG.add_edge(reac, pdt)\n",
    "    "
   ]
  },
  {
   "cell_type": "code",
   "execution_count": 140,
   "id": "f35e8a39-a01d-4234-9937-b320f66379b0",
   "metadata": {},
   "outputs": [
    {
     "data": {
      "text/plain": [
       "199"
      ]
     },
     "execution_count": 140,
     "metadata": {},
     "output_type": "execute_result"
    }
   ],
   "source": [
    "DG.number_of_edges()"
   ]
  },
  {
   "cell_type": "code",
   "execution_count": 141,
   "id": "eaa4599f-81c1-4452-8495-392f1c861d5b",
   "metadata": {},
   "outputs": [
    {
     "data": {
      "text/plain": [
       "97"
      ]
     },
     "execution_count": 141,
     "metadata": {},
     "output_type": "execute_result"
    }
   ],
   "source": [
    "DG.number_of_nodes()"
   ]
  },
  {
   "cell_type": "code",
   "execution_count": 143,
   "id": "e9b45a28-c13f-4597-b8d3-839694e021b2",
   "metadata": {},
   "outputs": [],
   "source": [
    "pickle.dump(DG, open(\"base.dg\", \"wb\"))"
   ]
  },
  {
   "cell_type": "code",
   "execution_count": null,
   "id": "8f00ff59-d317-44c9-a8e5-c864b164f7d6",
   "metadata": {},
   "outputs": [],
   "source": []
  },
  {
   "cell_type": "markdown",
   "id": "8aa9cbcb-e50d-43f7-80df-810b248476c3",
   "metadata": {},
   "source": [
    "# add output"
   ]
  },
  {
   "cell_type": "code",
   "execution_count": null,
   "id": "01c73535-7fc6-463b-805c-ae0655fd8256",
   "metadata": {},
   "outputs": [],
   "source": []
  },
  {
   "cell_type": "code",
   "execution_count": null,
   "id": "304166b2-7d6a-4728-b04a-d0ee3ccae365",
   "metadata": {},
   "outputs": [],
   "source": []
  },
  {
   "cell_type": "code",
   "execution_count": null,
   "id": "c36a9513-c1bf-4485-8004-88c20c6add0b",
   "metadata": {},
   "outputs": [],
   "source": []
  }
 ],
 "metadata": {
  "kernelspec": {
   "display_name": "geo",
   "language": "python",
   "name": "geo"
  },
  "language_info": {
   "codemirror_mode": {
    "name": "ipython",
    "version": 3
   },
   "file_extension": ".py",
   "mimetype": "text/x-python",
   "name": "python",
   "nbconvert_exporter": "python",
   "pygments_lexer": "ipython3",
   "version": "3.12.3"
  }
 },
 "nbformat": 4,
 "nbformat_minor": 5
}
