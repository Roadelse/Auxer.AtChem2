{
 "cells": [
  {
   "cell_type": "code",
   "execution_count": 17,
   "id": "4637e436-c763-4161-9318-d3a5955ebcb4",
   "metadata": {},
   "outputs": [],
   "source": [
    "import os\n",
    "import glob\n",
    "import os.path\n",
    "import re\n",
    "import pickle\n",
    "\n",
    "\n",
    "import networkx as nx\n",
    "from networkx.drawing.nx_agraph import graphviz_layout\n",
    "\n",
    "import matplotlib.pyplot as plt"
   ]
  },
  {
   "cell_type": "code",
   "execution_count": 2,
   "id": "caa4e611-2791-4ca7-b4d0-30bdeba0267d",
   "metadata": {},
   "outputs": [],
   "source": [
    "dgfile = \"base.dg\""
   ]
  },
  {
   "cell_type": "code",
   "execution_count": 3,
   "id": "f3d25351-2e1b-46c9-91b0-f1a0016af8fe",
   "metadata": {},
   "outputs": [],
   "source": [
    "DG = pickle.load(open(dgfile, \"rb\"))"
   ]
  },
  {
   "cell_type": "markdown",
   "id": "63822468-9ec5-4ba7-960e-846e26e1cffd",
   "metadata": {},
   "source": [
    "+ 强制全部输出间隔一致"
   ]
  },
  {
   "cell_type": "code",
   "execution_count": 19,
   "id": "85bf0cc9-ddd2-4298-9279-ec550a510d89",
   "metadata": {},
   "outputs": [
    {
     "data": {
      "text/plain": [
       "'/home/roadelse/Model/AtChem2/AtChem2-1.2.2/model/mechanism.fac'"
      ]
     },
     "execution_count": 19,
     "metadata": {},
     "output_type": "execute_result"
    }
   ],
   "source": [
    "glob.glob('/home/roadelse/Model/AtChem2/AtChem2-1.2.2/model/*.fac')[0]"
   ]
  },
  {
   "cell_type": "code",
   "execution_count": 29,
   "id": "4390ed64-81c8-4fa1-88ac-15fa861a7641",
   "metadata": {},
   "outputs": [],
   "source": [
    "class AtChem2Case:\n",
    "    def __init__(self, mDir, facfile = None):\n",
    "        assert os.path.exists(mDir)\n",
    "        self.modelpath = mDir\n",
    "        \n",
    "        self.facfile = facfile\n",
    "        if not facfile:\n",
    "            self.facfile = glob.glob(f\"{mDir}/*.fac\")[0]\n",
    "        \n",
    "        self.mechDG = self._init_DG_from_fac(self.facfile)\n",
    "        self.frames = {}\n",
    "\n",
    "        if os.path.exists(f\"{mDir}/output\"):\n",
    "            self.resolve_output(f\"{mDir}/output\")\n",
    "\n",
    "    def _init_DG_from_fac(self, facfile: str):\n",
    "        assert os.path.exists(facfile)\n",
    "\n",
    "        lines = open(facfile).read().splitlines()\n",
    "        lines_reaction = [L for L in lines if L.startswith(\"% \")]\n",
    "        reactions = list(map(lambda x: re.search(': (.*) ;', x).group(1).replace(' ', ''), lines_reaction))\n",
    "    \n",
    "        for iL, L in enumerate(lines):\n",
    "            if L == 'VARIABLE':\n",
    "                break\n",
    "        iL += 1\n",
    "        variables = []\n",
    "        while not lines[iL].startswith('******************'):\n",
    "            variables.extend([ele for ele in re.split(r'[; ]', lines[iL]) if ele.strip()])\n",
    "            iL += 1\n",
    "\n",
    "        \n",
    "        DG = nx.DiGraph()\n",
    "        for sp in variables:\n",
    "            DG.add_node(sp, type=\"species\")\n",
    "        for reac in reactions:\n",
    "            DG.add_node(reac, type=\"reaction\")\n",
    "            reactants = re.findall(r\"\\w+\", reac.split('=')[0])\n",
    "            products = re.findall(r\"\\w+\", reac.split('=')[1])\n",
    "            for rtt in reactants:\n",
    "                DG.add_edge(rtt, reac)\n",
    "            for pdt in products:\n",
    "                DG.add_edge(reac, pdt)\n",
    "\n",
    "        return DG    \n",
    "\n",
    "    def resolve_output(self, oDir: str):\n",
    "        # spe_conc_file = f\"{self.modelpath}/output/speciesConcentrations.output\"\n",
    "        pass\n",
    "    \n",
    "    def __getitem__(self, time: int):\n",
    "        return self.frames[time]"
   ]
  },
  {
   "cell_type": "code",
   "execution_count": 30,
   "id": "480da267-1498-48f0-98df-59e85d2e291f",
   "metadata": {},
   "outputs": [],
   "source": [
    "rct = AtChem2Case(\"/home/roadelse/Model/AtChem2/AtChem2-1.2.2/model\", )"
   ]
  },
  {
   "cell_type": "code",
   "execution_count": 31,
   "id": "2c6d5d8b-3a2a-469c-bb5c-ef6ef317b06e",
   "metadata": {},
   "outputs": [],
   "source": [
    "spe_conc_file = f\"{rct.modelpath}/output/speciesConcentrations.output\"\n",
    "_file = f\"{rct.modelpath}/output/.output\""
   ]
  },
  {
   "cell_type": "code",
   "execution_count": null,
   "id": "c88522f7-651e-4d37-b345-54b00342754a",
   "metadata": {},
   "outputs": [],
   "source": []
  }
 ],
 "metadata": {
  "kernelspec": {
   "display_name": "geo",
   "language": "python",
   "name": "geo"
  },
  "language_info": {
   "codemirror_mode": {
    "name": "ipython",
    "version": 3
   },
   "file_extension": ".py",
   "mimetype": "text/x-python",
   "name": "python",
   "nbconvert_exporter": "python",
   "pygments_lexer": "ipython3",
   "version": "3.12.3"
  }
 },
 "nbformat": 4,
 "nbformat_minor": 5
}
